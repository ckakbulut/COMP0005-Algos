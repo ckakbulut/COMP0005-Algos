{
 "cells": [
  {
   "cell_type": "markdown",
   "metadata": {},
   "source": [
    "# Jarvis march algorithm"
   ]
  },
  {
   "cell_type": "markdown",
   "metadata": {},
   "source": [
    "Use the cell below for all python code needed to realise the Jarvis march algorithm (including any auxiliary data structures and functions you might need). The `jarvismarch()` function itself should take as input parameter a list of 2D points (`inputSet`), and return the subset of such points (`outputSet`) that lie on the convex hull."
   ]
  },
  {
   "cell_type": "code",
   "execution_count": 4,
   "metadata": {},
   "outputs": [],
   "source": [
    "def findLeftMost(inputSet):\n",
    "    leftMost = inputSet[0]\n",
    "    for i in range(1,len(inputSet)):\n",
    "        if inputSet[i][0] < leftMost[0]:\n",
    "            leftMost = inputSet[i]\n",
    "        elif inputSet[i][0] == leftMost[0] and inputSet[i][1] < leftMost[1]:\n",
    "            leftMost = inputSet[i]\n",
    "    return leftMost\n",
    "\n",
    "def crossProduct(p1,p2,p3):\n",
    "    y1 = p1[1] - p2[1]\n",
    "    y2 = p1[1] - p3[1]\n",
    "    x1 = p1[0] - p2[0]\n",
    "    x2 = p1[0] - p3[0]\n",
    "    return y2 * x1 - y1 * x2\n",
    "\n",
    "def distance(p1,p2):\n",
    "    return (p2[0]-p1[0])**2 + (p2[1]-p1[1])**2\n",
    "\n",
    "def jarvismarch(inputSet):\n",
    "    start = findLeftMost(inputSet)\n",
    "    current = start\n",
    "    outputSet = [start]\n",
    "    while True:\n",
    "        next = inputSet[0]\n",
    "        for i in range(1, len(inputSet)):\n",
    "            if inputSet[i] == current:\n",
    "                continue\n",
    "            res = crossProduct(current, next, inputSet[i])\n",
    "            if res > 0:\n",
    "                next = inputSet[i]\n",
    "            elif res == 0:\n",
    "                if distance(current, next) < distance(current, inputSet[i]):\n",
    "                    next = inputSet[i]\n",
    "                else:\n",
    "                    continue\n",
    "        if next == start:\n",
    "            break\n",
    "        outputSet.append(next)\n",
    "        current = next\n",
    "    return outputSet\n",
    "\n",
    "        \n",
    "\n"
   ]
  },
  {
   "cell_type": "markdown",
   "metadata": {},
   "source": [
    "Use the cell below for all python code needed to generate test data points (both random and those representing worst-case scenario)."
   ]
  },
  {
   "cell_type": "code",
   "execution_count": 5,
   "metadata": {},
   "outputs": [],
   "source": [
    "from random import *\n",
    "\n",
    "from math import *\n",
    "\n",
    "import matplotlib.pyplot as plt\n",
    "\n",
    "\n",
    "\n",
    "# #Point objects have x and y coordinates\n",
    "\n",
    "# class Point(object):\n",
    "#     def __init__(self, x, y):\n",
    "#         self.x = x\n",
    "#         self.y = y\n",
    "\n",
    "MAXX = 32767\n",
    "MAXY = 32767\n",
    "MINX = 0\n",
    "MINY = 0\n",
    "MIDDLE = [(MAXX-MINX)/2, (MAXY-MINY)/2]\n",
    "NS = [100, 500, 1000, 5000, 10000, 15000, 20000]\n",
    "\n",
    "def generate_random(N):\n",
    "    points = []\n",
    "    for p in range(N):\n",
    "        while True:\n",
    "            x = randint(MINX, MAXX)\n",
    "            y = randint(MINY, MAXY)\n",
    "            point = [x,y]\n",
    "            if point not in points:\n",
    "                break\n",
    "        points.append(point)\n",
    "        \n",
    "    return points\n",
    "\n",
    "def generate_hull(N):\n",
    "    angle = 0\n",
    "    radius = 16383.5\n",
    "    for p in range(N + 100):\n",
    "        x = ceil(MIDDLEp[0] + (radius * cos(angle)))\n",
    "        y = ceil(MIDDLE[1] + (radius * sin(angle)))\n",
    "        point = [x,y]\n",
    "        points.append(point)\n",
    "        angle += (2*pi)/N\n",
    "    return points \n",
    "\n",
    "inputSets = [generate_random(NS[n]) for n in range(7)]\n",
    "\n"
   ]
  },
  {
   "cell_type": "markdown",
   "metadata": {},
   "source": [
    "Use the cell below for all python code needed to test the `jarvismarch()` function on the data generated above."
   ]
  },
  {
   "cell_type": "code",
   "execution_count": 8,
   "metadata": {},
   "outputs": [
    {
     "output_type": "stream",
     "name": "stdout",
     "text": [
      "[0.000832120000040959, 0.0054432379999980185, 0.012050801999976102, 0.06986438700005237, 0.14749695099999371, 0.20217632400022012, 0.32979226099996595]\n"
     ]
    }
   ],
   "source": [
    "import timeit\n",
    "\n",
    "def timer():\n",
    "    times = []\n",
    "    stmt_code = \"[jarvismarch(inputSets[n]) for n in range(7)]\"\n",
    "    setup_code = '''\n",
    "from __main__ import jarvismarch\n",
    "from __main__ import inputSets\n",
    "    '''\n",
    "    for n in range(7):\n",
    "        time = timeit.timeit(lambda: jarvismarch(inputSets[n]), setup = setup_code, number = 1)\n",
    "        times.append(time)\n",
    "    print(times)\n",
    "\n",
    "timer()\n",
    "inputSet = inputSets[0]\n",
    "outputSet = jarvismarch(inputSet)\n"
   ]
  },
  {
   "cell_type": "markdown",
   "metadata": {},
   "source": [
    "*Optional*: Feel free to use the code below on small datasets (e.g., N = 10) to visually inspect whether the algorithm has been implemented correctly. The fragment below assumes both `inputSet` and `outputSet` to be lists of 2D points, with each point being a list of 2 elements (e.g., `[[x1,y1], [x2,y2], ..., [x_k,y_k]]`)"
   ]
  },
  {
   "cell_type": "code",
   "execution_count": 4,
   "metadata": {},
   "outputs": [
    {
     "data": {
      "image/png": "[encoded data removed]",
      "text/plain": [
       "<Figure size 432x288 with 1 Axes>"
      ]
     },
     "metadata": {
      "needs_background": "light"
     },
     "output_type": "display_data"
    }
   ],
   "source": [
    "import matplotlib.pyplot as plt\n",
    "\n",
    "# inputSet and outputSet should have been defined above. \n",
    "# uncomment the next two lines only if you wish to test the plotting code before coding your algorithm\n",
    "\n",
    "#inputSet = [[1,1], [2,2] , [3, 3], [4,4], [1,4], [3,1], [1, 5], [2, 4], [3, 5]]\n",
    "#outputSet = [[1,1], [3,1] , [4, 4], [3,5], [1,5]]\n",
    "\n",
    "plt.figure()\n",
    "\n",
    "#first do a scatter plot of the inputSet\n",
    "input_xs, input_ys = zip(*inputSet)\n",
    "plt.scatter(input_xs, input_ys)\n",
    "\n",
    "#then do a polygon plot of the computed covex hull\n",
    "outputSet.append(outputSet[0]) #first create a 'closed loop' by adding the first point at the end of the list\n",
    "output_xs, output_ys = zip(*outputSet) \n",
    "plt.plot(output_xs, output_ys) \n",
    "\n",
    "plt.show() "
   ]
  },
  {
   "cell_type": "code",
   "execution_count": null,
   "metadata": {},
   "outputs": [],
   "source": []
  }
 ],
 "metadata": {
  "kernelspec": {
   "display_name": "Python 3",
   "language": "python",
   "name": "python3"
  },
  "language_info": {
   "codemirror_mode": {
    "name": "ipython",
    "version": 3
   },
   "file_extension": ".py",
   "mimetype": "text/x-python",
   "name": "python",
   "nbconvert_exporter": "python",
   "pygments_lexer": "ipython3",
   "version": "3.8.6-final"
  }
 },
 "nbformat": 4,
 "nbformat_minor": 4
}
