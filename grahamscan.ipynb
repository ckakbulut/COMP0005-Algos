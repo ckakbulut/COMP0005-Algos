{
 "cells": [
  {
   "cell_type": "markdown",
   "metadata": {},
   "source": [
    "# Graham scan algorithm"
   ]
  },
  {
   "cell_type": "markdown",
   "metadata": {},
   "source": [
    "## Basic graham scan algorithm implementation"
   ]
  },
  {
   "cell_type": "code",
   "execution_count": 1,
   "metadata": {},
   "outputs": [],
   "source": [
    "import math\n",
    "\n",
    "def find_bottom_most(inputSet):\n",
    "    target_point = inputSet[0]\n",
    "\n",
    "    for i in range(1,len(inputSet)):\n",
    "        if inputSet[i][1] < target_point[1]:\n",
    "            target_point = inputSet[i]\n",
    "        elif inputSet[i][1]== target_point[1] and inputSet[i][0] < target_point[0]:\n",
    "            target_point = inputSet[i]\n",
    "\n",
    "    return target_point\n",
    "\n",
    "def polar_angle(p1,p2):\n",
    "\n",
    "    if p1==p2: return 0\n",
    "    return (p2[0]-p1[0])/math.sqrt(distance(p1,p2))\n",
    "\n",
    "def distance(p1,p2):\n",
    "\n",
    "    return (p2[0]-p1[0])**2 + (p2[1]-p1[1])**2\n",
    "\n",
    "def cross_product(p1,p2,p3):\n",
    "\n",
    "    y1 = p1[1] - p2[1]\n",
    "    y2 = p1[1] - p3[1]\n",
    "    x1 = p1[0] - p2[0]\n",
    "    x2 = p1[0] - p3[0]\n",
    "\n",
    "    return y2 * x1 - y1 * x2\n",
    "\n",
    "def merge(arr1,arr2,start): \n",
    "    res = []\n",
    "    n1 = len(arr1)\n",
    "    n2 = len(arr2)\n",
    "  \n",
    "    i = 0     \n",
    "    j = 0      \n",
    "  \n",
    "    while i < n1 and j < n2 : \n",
    "        v1 = polar_angle(start,arr1[i])\n",
    "        v2 = polar_angle(start,arr2[j])\n",
    "        if v1 > v2:\n",
    "            res.append(arr1[i]) \n",
    "            i += 1\n",
    "        elif v1 < v2: \n",
    "            res.append(arr2[j]) \n",
    "            j += 1\n",
    "        #when polar angle is the same\n",
    "        #put the furthest point first if polar angle is greater than 0, vice versa\n",
    "        elif (v1 > 0 and distance(start,arr1[i]) > distance(start,arr2[j])) or (v1 <= 0 and distance(start,arr1[i]) < distance(start,arr2[j])):\n",
    "            res.append(arr1[i]) \n",
    "            i += 1\n",
    "        else:\n",
    "            res.append(arr2[j]) \n",
    "            j += 1\n",
    "    while i < n1: \n",
    "        res.append(arr1[i]) \n",
    "        i += 1\n",
    "  \n",
    "    while j < n2: \n",
    "        res.append(arr2[j]) \n",
    "        j += 1\n",
    "    \n",
    "    return res\n",
    "\n",
    "def merge_sort(arr,start): \n",
    "    if len(arr)==1: return arr\n",
    "\n",
    "    mid = len(arr)//2\n",
    "    left = arr[:mid]\n",
    "    right = arr[mid:]\n",
    "\n",
    "    return merge(merge_sort(left,start),merge_sort(right,start),start)\n",
    "\n",
    "def grahamscan(inputSet):\n",
    "\n",
    "    inputSet_copy = [i for i in inputSet]\n",
    "    start = find_bottom_most(inputSet_copy)\n",
    "    inputSet_copy.remove(start)\n",
    "        \n",
    "    sortedSet = merge_sort(inputSet_copy,start)\n",
    "    outputSet = [start,sortedSet[0]]\n",
    "    \n",
    "\n",
    "    for point in sortedSet:\n",
    "        while (len(outputSet)>=2 and cross_product(outputSet[-2],outputSet[-1],point) <= 0) :\n",
    "            outputSet.pop()\n",
    "        outputSet.append(point)\n",
    "\n",
    "    return outputSet"
   ]
  },
  {
   "cell_type": "markdown",
   "metadata": {},
   "source": [
    "## data points generation"
   ]
  },
  {
   "cell_type": "code",
   "execution_count": 2,
   "metadata": {},
   "outputs": [],
   "source": [
    "from random import *\n",
    "\n",
    "MAXX = 32767\n",
    "MAXY = 32767\n",
    "MINX = 0\n",
    "MINY = 0\n",
    "MIDDLE = [(MAXX-MINX)/2, (MAXY-MINY)/2]\n",
    "NS = [100, 500, 1000, 5000, 10000, 15000, 20000]\n",
    "\n",
    "def generate_random(N):\n",
    "    points = []\n",
    "    for p in range(N):\n",
    "        while True:\n",
    "            x = randint(MINX, MAXX)\n",
    "            y = randint(MINY, MAXY)\n",
    "            point = [x,y]\n",
    "            if point not in points:\n",
    "                break\n",
    "        points.append(point)\n",
    "        \n",
    "    return points\n",
    "\n",
    "def generate_worst(N):\n",
    "    points = [[1,1],[30000,1],[15000,30000]]\n",
    "    while len(points)<=N:\n",
    "        x=randint(1,30000)\n",
    "        y=randint(1,30000)\n",
    "        point = [x,y]\n",
    "        if cross_product([1,1],point,[30000,1])<0 and cross_product([30000,1],point,[15000,30000])<0 and cross_product([15000,30000],point,[1,1])<0 and point not in points:\n",
    "            points.append(point)\n",
    "        \n",
    "    return points\n"
   ]
  },
  {
   "cell_type": "markdown",
   "metadata": {},
   "source": [
    "## Timer function"
   ]
  },
  {
   "cell_type": "code",
   "execution_count": 3,
   "metadata": {},
   "outputs": [],
   "source": [
    "import timeit\n",
    "\n",
    "def timer_random():\n",
    "    times = []\n",
    "    stmt_code = \"[grahamscan(inputSets_random[n]) for n in range(7)]\"\n",
    "    setup_code = '''\n",
    "from __main__ import grahamscan\n",
    "from __main__ import inputSets_random\n",
    "    '''\n",
    "    \n",
    "    for n in range(7):\n",
    "        time = timeit.timeit(lambda: grahamscan(inputSets_random[n]),setup = setup_code, number = 5)\n",
    "        times.append(time/5)\n",
    "    return times\n",
    "\n",
    "def timer_worst():\n",
    "    times = []\n",
    "    stmt_code = \"[grahamscan(inputSets_worst[n]) for n in range(7)]\"\n",
    "    setup_code = '''\n",
    "from __main__ import grahamscan\n",
    "from __main__ import inputSets_worst\n",
    "    '''\n",
    "    \n",
    "    for n in range(7):\n",
    "        time = timeit.timeit(lambda: grahamscan(inputSets_worst[n]),setup = setup_code, number = 5)\n",
    "        times.append(time/5)\n",
    "    return times"
   ]
  },
  {
   "cell_type": "markdown",
   "metadata": {},
   "source": [
    "## Plot function"
   ]
  },
  {
   "cell_type": "code",
   "execution_count": 4,
   "metadata": {},
   "outputs": [],
   "source": [
    "import matplotlib.pyplot as plt\n",
    "\n",
    "def plot(times):\n",
    "    NS = [100,500,1000,5000,10000,15000,20000]\n",
    "    fig = plt.figure()\n",
    "    graph = fig.add_subplot(111)\n",
    "    graph.set(title='analysis graph', ylabel='Time', xlabel='Number of points')\n",
    "    graph.plot(NS,times)\n",
    "    plt.show()"
   ]
  },
  {
   "cell_type": "markdown",
   "metadata": {},
   "source": [
    "## Test code for random case"
   ]
  },
  {
   "cell_type": "code",
   "execution_count": 5,
   "metadata": {},
   "outputs": [
    {
     "data": {
      "image/png": "[encoded data removed]",
      "text/plain": [
       "<Figure size 432x288 with 1 Axes>"
      ]
     },
     "metadata": {
      "needs_background": "light"
     },
     "output_type": "display_data"
    }
   ],
   "source": [
    "#generate random datatSet \n",
    "inputSets_random = [generate_random(NS[n]) for n in range(7)]\n",
    "\n",
    "#plot of the previously computed execution times\n",
    "times = timer_random()\n",
    "plot(times)"
   ]
  },
  {
   "cell_type": "markdown",
   "metadata": {},
   "source": [
    "## Test code for worst case"
   ]
  },
  {
   "cell_type": "code",
   "execution_count": null,
   "metadata": {},
   "outputs": [],
   "source": [
    "#generate worst-case datatSet \n",
    "inputSets_worst = [generate_worst(NS[n]) for n in range(7)]\n",
    "\n",
    "#plot of the previously computed execution times\n",
    "times = timer_worst()\n",
    "plot(times)"
   ]
  },
  {
   "cell_type": "code",
   "execution_count": null,
   "metadata": {},
   "outputs": [],
   "source": [
    "import matplotlib.pyplot as plt\n",
    "\n",
    "# inputSet and outputSet should have been defined above. \n",
    "# uncomment the next two lines only if you wish to test the plotting code before coding your algorithm\n",
    "\n",
    "#inputSet = [[1,1], [2,2] , [3, 3], [4,4], [1,4], [3,1], [1, 5], [2, 4], [3, 5]]\n",
    "#outputSet = [[1,1], [3,1] , [4, 4], [3,5], [1,5]]\n",
    "\n",
    "plt.figure()\n",
    "\n",
    "#first do a scatter plot of the inputSet\n",
    "input_xs, input_ys = zip(*inputSet)\n",
    "plt.scatter(input_xs, input_ys)\n",
    "\n",
    "#then do a polygon plot of the computed covex hull\n",
    "outputSet.append(outputSet[0]) #first create a 'closed loop' by adding the first point at the end of the list\n",
    "output_xs, output_ys = zip(*outputSet) \n",
    "plt.plot(output_xs, output_ys) \n",
    "\n",
    "plt.show() "
   ]
  },
  {
   "cell_type": "code",
   "execution_count": null,
   "metadata": {},
   "outputs": [],
   "source": []
  },
  {
   "cell_type": "code",
   "execution_count": null,
   "metadata": {},
   "outputs": [],
   "source": []
  },
  {
   "cell_type": "code",
   "execution_count": null,
   "metadata": {},
   "outputs": [],
   "source": []
  }
 ],
 "metadata": {
  "kernelspec": {
   "display_name": "Python 3",
   "language": "python",
   "name": "python3"
  },
  "language_info": {
   "codemirror_mode": {
    "name": "ipython",
    "version": 3
   },
   "file_extension": ".py",
   "mimetype": "text/x-python",
   "name": "python",
   "nbconvert_exporter": "python",
   "pygments_lexer": "ipython3",
   "version": "3.8.6"
  }
 },
 "nbformat": 4,
 "nbformat_minor": 4
}
