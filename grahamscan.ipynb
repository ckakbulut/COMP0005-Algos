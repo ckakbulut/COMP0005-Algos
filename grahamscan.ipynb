{
 "cells": [
  {
   "cell_type": "markdown",
   "metadata": {},
   "source": [
    "# Graham scan algorithm"
   ]
  },
  {
   "cell_type": "markdown",
   "metadata": {},
   "source": [
    "## Basic graham scan algorithm implementation"
   ]
  },
  {
   "cell_type": "code",
   "execution_count": 19,
   "metadata": {},
   "outputs": [],
   "source": [
    "import math\n",
    "\n",
    "def find_bottom_most(inputSet):\n",
    "    target_point = inputSet[0]\n",
    "\n",
    "    for i in range(1,len(inputSet)):\n",
    "        if inputSet[i][1] < target_point[1]:\n",
    "            target_point = inputSet[i]\n",
    "        elif inputSet[i][1]== target_point[1] and inputSet[i][0] < target_point[0]:\n",
    "            target_point = inputSet[i]\n",
    "\n",
    "    return target_point\n",
    "\n",
    "def polar_angle(p1,p2):\n",
    "\n",
    "    if p1==p2: return 0\n",
    "    return (p2[0]-p1[0])/math.sqrt(distance(p1,p2))\n",
    "\n",
    "def distance(p1,p2):\n",
    "\n",
    "    return (p2[0]-p1[0])**2 + (p2[1]-p1[1])**2\n",
    "\n",
    "def cross_product(p1,p2,p3):\n",
    "\n",
    "    y1 = p1[1] - p2[1]\n",
    "    y2 = p1[1] - p3[1]\n",
    "    x1 = p1[0] - p2[0]\n",
    "    x2 = p1[0] - p3[0]\n",
    "\n",
    "    return y2 * x1 - y1 * x2\n",
    "\n",
    "def merge_sort(inputSet,start):\n",
    "\n",
    "    aux = [inputSet[i] for i in range(len(inputSet))]\n",
    "    merge_sort_helper(aux,inputSet,0,len(inputSet)-1,start)  \n",
    "\n",
    "    return inputSet                                       \n",
    "\n",
    "def merge_sort_helper(a,aux,lo,hi,start):\n",
    "\n",
    "    if hi <= lo:\n",
    "        return\n",
    "\n",
    "    mid = lo+(hi-lo)//2\n",
    "    merge_sort_helper(aux,a,lo,mid,start) \n",
    "    merge_sort_helper(aux,a,mid+1,hi,start)\n",
    "    merge(a,aux,lo,mid,hi,start)\n",
    "\n",
    "def merge(a,aux,lo,mid,hi,start):\n",
    "    i = lo\n",
    "    j = mid+1\n",
    "\n",
    "    for k in range(lo,hi+1):\n",
    "        if i>mid: \n",
    "            aux[k] = a[j]\n",
    "            j+=1\n",
    "        elif j>hi:\n",
    "            aux[k] = a[i]\n",
    "            i+=1\n",
    "        elif polar_angle(start,a[j]) < polar_angle(start,a[i]):\n",
    "            aux[k] = a[j]\n",
    "            j+=1\n",
    "        elif polar_angle(start,a[j]) >= polar_angle(start,a[i]):\n",
    "            aux[k] = a[i]\n",
    "            i+=1\n",
    "\n",
    "def grahamscan(inputSet):\n",
    "\n",
    "    start = find_bottom_most(inputSet)\n",
    "    #inputSet.remove(start)\n",
    "    sortedSet = merge_sort(inputSet,start)\n",
    "    #sortedSet.append(start)\n",
    "    outputSet = [start,sortedSet[0]]\n",
    "\n",
    "    for point in sortedSet:\n",
    "        while len(outputSet) >= 2 and cross_product(outputSet[-2],outputSet[-1],point) >= 0:\n",
    "            outputSet.pop()\n",
    "        outputSet.append(point)\n",
    "        \n",
    "    return outputSet"
   ]
  },
  {
   "cell_type": "markdown",
   "metadata": {},
   "source": [
    "## data points generation"
   ]
  },
  {
   "cell_type": "code",
   "execution_count": 20,
   "metadata": {},
   "outputs": [],
   "source": [
    "from random import *\n",
    "\n",
    "MAXX = 32767\n",
    "MAXY = 32767\n",
    "MINX = 0\n",
    "MINY = 0\n",
    "MIDDLE = [(MAXX-MINX)/2, (MAXY-MINY)/2]\n",
    "NS = [100, 500, 1000, 5000, 10000, 15000, 20000]\n",
    "\n",
    "def generate_random(N):\n",
    "    points = []\n",
    "    for p in range(N):\n",
    "        while True:\n",
    "            x = randint(MINX, MAXX)\n",
    "            y = randint(MINY, MAXY)\n",
    "            point = [x,y]\n",
    "            if point not in points:\n",
    "                break\n",
    "        points.append(point)\n",
    "        \n",
    "    return points\n",
    "\n",
    "def generate_worst(N):\n",
    "    angle = 0\n",
    "    radius = 16383.5\n",
    "    points = []\n",
    "    for p in range(N + 100):\n",
    "        x = ceil(MIDDLE[0] + (radius * cos(angle)))\n",
    "        y = ceil(MIDDLE[1] + (radius * sin(angle)))\n",
    "        point = [x,y]\n",
    "        points.append(point)\n",
    "        angle += (2*pi)/N\n",
    "    return points \n",
    "\n",
    "inputSets_random = [generate_random(NS[n]) for n in range(7)]\n",
    "inputSets_worst = [generate_worst(NS[n]) for n in range(7)]"
   ]
  },
  {
   "cell_type": "markdown",
   "metadata": {},
   "source": [
    "## Timer function"
   ]
  },
  {
   "cell_type": "code",
   "execution_count": 21,
   "metadata": {},
   "outputs": [],
   "source": [
    "import timeit\n",
    "\n",
    "def timer_random():\n",
    "    times = []\n",
    "    stmt_code = \"[grahamscan(inputSets_random[n]) for n in range(7)]\"\n",
    "    setup_code = '''\n",
    "from __main__ import grahamscan\n",
    "from __main__ import inputSets_random\n",
    "    '''\n",
    "    \n",
    "    for n in range(7):\n",
    "        time = timeit.timeit(lambda: grahamscan(inputSets_random[n]),setup = setup_code, number = 5)\n",
    "        times.append(time/5)\n",
    "    return times\n",
    "\n",
    "def timer_worst():\n",
    "    times = []\n",
    "    stmt_code = \"[grahamscan(inputSets_worst[n]) for n in range(7)]\"\n",
    "    setup_code = '''\n",
    "from __main__ import grahamscan\n",
    "from __main__ import inputSets_worst\n",
    "    '''\n",
    "    \n",
    "    for n in range(7):\n",
    "        time = timeit.timeit(lambda: grahamscan(inputSets_worst[n]),setup = setup_code, number = 5)\n",
    "        times.append(time/5)\n",
    "    return times"
   ]
  },
  {
   "cell_type": "markdown",
   "metadata": {},
   "source": [
    "## Plot function"
   ]
  },
  {
   "cell_type": "code",
   "execution_count": 22,
   "metadata": {},
   "outputs": [],
   "source": [
    "import matplotlib.pyplot as plt\n",
    "\n",
    "def plot(times):\n",
    "    NS = [100,500,1000,5000,10000,15000,20000]\n",
    "    fig = plt.figure()\n",
    "    graph = fig.add_subplot(111)\n",
    "    graph.set(title='analysis graph', ylabel='Time', xlabel='Number of points')\n",
    "    graph.plot(NS,times)\n",
    "    plt.show()"
   ]
  },
  {
   "cell_type": "markdown",
   "metadata": {},
   "source": [
    "## Test code for random case"
   ]
  },
  {
   "cell_type": "code",
   "execution_count": 23,
   "metadata": {},
   "outputs": [
    {
     "data": {
      "image/png": "[encoded data removed]",
      "text/plain": [
       "<Figure size 432x288 with 1 Axes>"
      ]
     },
     "metadata": {
      "needs_background": "light"
     },
     "output_type": "display_data"
    }
   ],
   "source": [
    "#generate random datatSet \n",
    "inputSets_random = [generate_random(NS[n]) for n in range(7)]\n",
    "\n",
    "#plot of the previously computed execution times\n",
    "times = timer_random()\n",
    "plot(times)\n",
    "\n"
   ]
  },
  {
   "cell_type": "markdown",
   "metadata": {},
   "source": [
    "## Test code for worst case"
   ]
  },
  {
   "cell_type": "code",
   "execution_count": 24,
   "metadata": {},
   "outputs": [
    {
     "data": {
      "image/png": "[encoded data removed]",
      "text/plain": [
       "<Figure size 432x288 with 1 Axes>"
      ]
     },
     "metadata": {
      "needs_background": "light"
     },
     "output_type": "display_data"
    }
   ],
   "source": [
    "#generate worst-case datatSet \n",
    "inputSets_worst = [generate_worst(NS[n]) for n in range(7)]\n",
    "\n",
    "#plot of the previously computed execution times\n",
    "times = timer_worst()\n",
    "plot(times)"
   ]
  },
  {
   "cell_type": "markdown",
   "metadata": {},
   "source": [
    "*Oprional*: Feel free to use the code below on small datasets (e.g., N = 10) to visually inspect whether the algorithm has been implemented correctly. The fragment below assumes both `inputSet` and `outputSet` to be lists of 2D points, with each point being a list of 2 elements (e.g., `[[x1,y1], [x2,y2], ..., [x_k,y_k]]`)"
   ]
  },
  {
   "cell_type": "code",
   "execution_count": 25,
   "metadata": {},
   "outputs": [
    {
     "data": {
      "image/png": "[encoded data removed]",
      "text/plain": [
       "<Figure size 432x288 with 1 Axes>"
      ]
     },
     "metadata": {
      "needs_background": "light"
     },
     "output_type": "display_data"
    }
   ],
   "source": [
    "import matplotlib.pyplot as plt\n",
    "\n",
    "# inputSet and outputSet should have been defined above. \n",
    "# uncomment the next two lines only if you wish to test the plotting code before coding your algorithm\n",
    "\n",
    "#inputSet = [[1,1], [2,2] , [3, 3], [4,4], [1,4], [3,1], [1, 5], [2, 4], [3, 5]]\n",
    "#outputSet = [[1,1], [3,1] , [4, 4], [3,5], [1,5]]\n",
    "\n",
    "plt.figure()\n",
    "\n",
    "#first do a scatter plot of the inputSet\n",
    "input_xs, input_ys = zip(*inputSet)\n",
    "plt.scatter(input_xs, input_ys)\n",
    "\n",
    "#then do a polygon plot of the computed covex hull\n",
    "outputSet.append(outputSet[0]) #first create a 'closed loop' by adding the first point at the end of the list\n",
    "output_xs, output_ys = zip(*outputSet) \n",
    "plt.plot(output_xs, output_ys) \n",
    "\n",
    "plt.show() "
   ]
  },
  {
   "cell_type": "code",
   "execution_count": null,
   "metadata": {},
   "outputs": [],
   "source": []
  },
  {
   "cell_type": "code",
   "execution_count": null,
   "metadata": {},
   "outputs": [],
   "source": []
  }
 ],
 "metadata": {
  "kernelspec": {
   "display_name": "Python 3",
   "language": "python",
   "name": "python3"
  },
  "language_info": {
   "codemirror_mode": {
    "name": "ipython",
    "version": 3
   },
   "file_extension": ".py",
   "mimetype": "text/x-python",
   "name": "python",
   "nbconvert_exporter": "python",
   "pygments_lexer": "ipython3",
   "version": "3.8.6"
  }
 },
 "nbformat": 4,
 "nbformat_minor": 4
}
