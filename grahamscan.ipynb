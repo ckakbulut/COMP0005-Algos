{
 "cells": [
  {
   "cell_type": "markdown",
   "metadata": {},
   "source": [
    "# Graham scan algorithm"
   ]
  },
  {
   "cell_type": "markdown",
   "metadata": {},
   "source": [
    "Use the cell below for all python code needed to realise the Graham scan algorithm (including any auxiliary data structures and functions you might need). The `grahamscan()` function itself should take as input parameter a list of 2D points (`inputSet`), and return the subset of such points that lie on the convex hull (`outputSet`)."
   ]
  },
  {
   "cell_type": "code",
   "execution_count": 23,
   "metadata": {},
   "outputs": [],
   "source": [
    "#def grahamscan(inputSet):\n",
    "import math\n",
    "import random\n",
    "\n",
    "def findBottomMost(inputSet):\n",
    "    bottomMost = inputSet[0]\n",
    "    for i in range(1,len(inputSet)):\n",
    "        if inputSet[i][1] < bottomMost[1]:\n",
    "            bottomMost = inputSet[i]\n",
    "        elif inputSet[i][1]== bottomMost[1] and inputSet[i][0] < bottomMost[0]:\n",
    "            bottomMost = inputSet[i]\n",
    "    return bottomMost\n",
    "\n",
    "def polarAngle(p2,p1):\n",
    "    return math.atan2(p2[1]-p1[1],p2[0]-p1[0])\n",
    "\n",
    "def distance(p2,p1):\n",
    "    return (p2[0]-p1[0])**2 + (p2[1]-p1[1])**2\n",
    "\n",
    "def crossProduct(p1,p2,p3):\n",
    "    y1 = p1[1] - p2[1]\n",
    "    y2 = p1[1] - p3[1]\n",
    "    x1 = p1[0] - p2[0]\n",
    "    x2 = p1[0] - p3[0]\n",
    "    return y2 * x1 - y1 * x2\n",
    "\n",
    "def partition(arr,lo,hi,start):\n",
    "    i = lo+1\n",
    "    j = hi\n",
    "    p = arr[lo]\n",
    "\n",
    "    while True:\n",
    "        while polarAngle(arr[i],start) < polarAngle(p,start) or (polarAngle(arr[i],start)==polarAngle(p,start) and ((polarAngle(arr[i],start) > 0 and distance(arr[i],start) < distance(p,start)) or (polarAngle(arr[i],start) < 0 and distance(arr[i],start) > distance(p,start)))):\n",
    "            if i==hi: break\n",
    "            i+=1\n",
    "        while polarAngle(p,start) < polarAngle(arr[j],start) or (polarAngle(arr[i],start)==polarAngle(p,start) and ((polarAngle(arr[i],start) > 0 and distance(arr[i],start) > distance(p,start)) or (polarAngle(arr[i],start) < 0 and distance(arr[i],start) < distance(p,start)))):\n",
    "            if j==lo: break\n",
    "            j-=1\n",
    "        if i >= j: break\n",
    "        arr[i],arr[j] = arr[j],arr[i]\n",
    "    arr[lo],arr[j] = arr[j],arr[lo]\n",
    "    return j\n",
    "\n",
    "def quickSortHelper(a,lo,hi,start):\n",
    "    if hi <= lo: return\n",
    "    j = partition(a,lo,hi,start)\n",
    "    quickSortHelper(a,lo,j-1,start)\n",
    "    quickSortHelper(a,j+1,hi,start)\n",
    "\n",
    "def quickSort(inputSet):\n",
    "    start = findBottomMost(inputSet)\n",
    "    #random.shuffle(inputSet)\n",
    "    quickSortHelper(inputSet,0,len(inputSet)-1,start)\n",
    "    return inputSet\n",
    "\n",
    "def grahamscan(inputSet):\n",
    "    start = findBottomMost(inputSet)\n",
    "    inputSet.remove(start)\n",
    "    sortedSet = quickSort(inputSet)\n",
    "    outputSet = [start,sortedSet[0]]\n",
    "    for point in sortedSet:\n",
    "        while len(outputSet) >= 2 and crossProduct(outputSet[-2],outputSet[-1],point) <= 0:\n",
    "            del outputSet[-1]\n",
    "        outputSet.append(point)\n",
    "    return outputSet\n",
    "                                                     \n",
    "#    return outputSet"
   ]
  },
  {
   "cell_type": "markdown",
   "metadata": {},
   "source": [
    "Use the cell below for all python code needed to generate test data points (both random and those representing worst-case scenario)."
   ]
  },
  {
   "cell_type": "code",
   "execution_count": 27,
   "metadata": {},
   "outputs": [],
   "source": [
    "from random import *\n",
    "from math import *\n",
    "\n",
    "\n",
    "\n",
    "# #Point objects have x and y coordinates\n",
    "\n",
    "# class Point(object):\n",
    "#     def __init__(self, x, y):\n",
    "#         self.x = x\n",
    "#         self.y = y\n",
    "\n",
    "MAXX = 32767\n",
    "MAXY = 32767\n",
    "MINX = 0\n",
    "MINY = 0\n",
    "MIDDLE = [(MAXX-MINX)/2, (MAXY-MINY)/2]\n",
    "NS = [100, 500, 1000, 5000, 10000, 15000, 20000]\n",
    "\n",
    "def generate_random(N):\n",
    "    points = []\n",
    "    for p in range(N):\n",
    "        while True:\n",
    "            x = randint(MINX, MAXX)\n",
    "            y = randint(MINY, MAXY)\n",
    "            point = [x,y]\n",
    "            if point not in points:\n",
    "                break\n",
    "        points.append(point)\n",
    "        \n",
    "    return points\n",
    "\n",
    "def generate_hull(N):\n",
    "    angle = 0\n",
    "    radius = 16383.5\n",
    "    for p in range(N + 100):\n",
    "        x = ceil(MIDDLEp[0] + (radius * cos(angle)))\n",
    "        y = ceil(MIDDLE[1] + (radius * sin(angle)))\n",
    "        point = [x,y]\n",
    "        points.append(point)\n",
    "        angle += (2*pi)/N\n",
    "    return points \n",
    "\n",
    "inputSets = [generate_random(NS[n]) for n in range(7)]\n"
   ]
  },
  {
   "cell_type": "markdown",
   "metadata": {},
   "source": [
    "Use the cell below for all python code needed to test the `grahamscan()` function on the data generated above."
   ]
  },
  {
   "cell_type": "code",
   "execution_count": 48,
   "metadata": {},
   "outputs": [
    {
     "output_type": "stream",
     "name": "stdout",
     "text": [
      "[0.002103978999912215, 0.04602876999979344, 0.020101062000094316, 0.11606813299999885, 0.45043782600009763, 1.073446105999892, 1.1176717220000683]\n"
     ]
    }
   ],
   "source": [
    "import timeit\n",
    "\n",
    "def timer():\n",
    "    times = []\n",
    "    stmt_code = \"[grahamscan(inputSets[n]) for n in range(7)]\"\n",
    "    setup_code = '''\n",
    "from __main__ import grahamscan\n",
    "from __main__ import inputSets\n",
    "    '''\n",
    "    for n in range(7):\n",
    "        time = timeit.timeit(lambda: grahamscan(inputSets[n]), setup = setup_code, number = 1)\n",
    "        times.append(time)\n",
    "    print(times)\n",
    "\n",
    "timer()\n",
    "inputSet = inputSets[0]\n",
    "outputSet = grahamscan(inputSet)\n"
   ]
  },
  {
   "cell_type": "markdown",
   "metadata": {},
   "source": [
    "*Oprional*: Feel free to use the code below on small datasets (e.g., N = 10) to visually inspect whether the algorithm has been implemented correctly. The fragment below assumes both `inputSet` and `outputSet` to be lists of 2D points, with each point being a list of 2 elements (e.g., `[[x1,y1], [x2,y2], ..., [x_k,y_k]]`)"
   ]
  },
  {
   "cell_type": "code",
   "execution_count": 10,
   "metadata": {},
   "outputs": [
    {
     "output_type": "display_data",
     "data": {
      "text/plain": "<Figure size 432x288 with 1 Axes>",
      "image/svg+xml": "<?xml version=\"1.0\" encoding=\"utf-8\" standalone=\"no\"?>\n<!DOCTYPE svg PUBLIC \"-//W3C//DTD SVG 1.1//EN\"\n  \"http://www.w3.org/Graphics/SVG/1.1/DTD/svg11.dtd\">\n<!-- Created with matplotlib (https://matplotlib.org/) -->\n<svg height=\"248.518125pt\" version=\"1.1\" viewBox=\"0 0 388.0125 248.518125\" width=\"388.0125pt\" xmlns=\"http://www.w3.org/2000/svg\" xmlns:xlink=\"http://www.w3.org/1999/xlink\">\n <metadata>\n  <rdf:RDF xmlns:cc=\"http://creativecommons.org/ns#\" xmlns:dc=\"http://purl.org/dc/elements/1.1/\" xmlns:rdf=\"http://www.w3.org/1999/02/22-rdf-syntax-ns#\">\n   <cc:Work>\n    <dc:type rdf:resource=\"http://purl.org/dc/dcmitype/StillImage\"/>\n    <dc:date>2021-02-28T12:28:41.504013</dc:date>\n    <dc:format>image/svg+xml</dc:format>\n    <dc:creator>\n     <cc:Agent>\n      <dc:title>Matplotlib v3.3.3, https://matplotlib.org/</dc:title>\n     </cc:Agent>\n    </dc:creator>\n   </cc:Work>\n  </rdf:RDF>\n </metadata>\n <defs>\n  <style type=\"text/css\">*{stroke-linecap:butt;stroke-linejoin:round;}</style>\n </defs>\n <g id=\"figure_1\">\n  <g id=\"patch_1\">\n   <path d=\"M 0 248.518125 \nL 388.0125 248.518125 \nL 388.0125 0 \nL 0 0 \nz\n\" style=\"fill:none;\"/>\n  </g>\n  <g id=\"axes_1\">\n   <g id=\"patch_2\">\n    <path d=\"M 46.0125 224.64 \nL 380.8125 224.64 \nL 380.8125 7.2 \nL 46.0125 7.2 \nz\n\" style=\"fill:#ffffff;\"/>\n   </g>\n   <g id=\"PathCollection_1\">\n    <defs>\n     <path d=\"M 0 3 \nC 0.795609 3 1.55874 2.683901 2.12132 2.12132 \nC 2.683901 1.55874 3 0.795609 3 0 \nC 3 -0.795609 2.683901 -1.55874 2.12132 -2.12132 \nC 1.55874 -2.683901 0.795609 -3 0 -3 \nC -0.795609 -3 -1.55874 -2.683901 -2.12132 -2.12132 \nC -2.683901 -1.55874 -3 -0.795609 -3 0 \nC -3 0.795609 -2.683901 1.55874 -2.12132 2.12132 \nC -1.55874 2.683901 -0.795609 3 0 3 \nz\n\" id=\"mf03fa3ee01\" style=\"stroke:#1f77b4;\"/>\n    </defs>\n    <g clip-path=\"url(#p066de8cc00)\">\n     <use style=\"fill:#1f77b4;stroke:#1f77b4;\" x=\"290.933912\" xlink:href=\"#mf03fa3ee01\" y=\"214.610672\"/>\n     <use style=\"fill:#1f77b4;stroke:#1f77b4;\" x=\"360.714059\" xlink:href=\"#mf03fa3ee01\" y=\"202.117644\"/>\n     <use style=\"fill:#1f77b4;stroke:#1f77b4;\" x=\"353.204512\" xlink:href=\"#mf03fa3ee01\" y=\"180.591756\"/>\n     <use style=\"fill:#1f77b4;stroke:#1f77b4;\" x=\"365.594318\" xlink:href=\"#mf03fa3ee01\" y=\"168.596507\"/>\n     <use style=\"fill:#1f77b4;stroke:#1f77b4;\" x=\"325.057898\" xlink:href=\"#mf03fa3ee01\" y=\"190.104183\"/>\n     <use style=\"fill:#1f77b4;stroke:#1f77b4;\" x=\"314.62587\" xlink:href=\"#mf03fa3ee01\" y=\"195.506902\"/>\n     <use style=\"fill:#1f77b4;stroke:#1f77b4;\" x=\"355.436568\" xlink:href=\"#mf03fa3ee01\" y=\"146.129696\"/>\n     <use style=\"fill:#1f77b4;stroke:#1f77b4;\" x=\"340.663379\" xlink:href=\"#mf03fa3ee01\" y=\"152.254801\"/>\n     <use style=\"fill:#1f77b4;stroke:#1f77b4;\" x=\"351.539927\" xlink:href=\"#mf03fa3ee01\" y=\"135.803826\"/>\n     <use style=\"fill:#1f77b4;stroke:#1f77b4;\" x=\"363.286598\" xlink:href=\"#mf03fa3ee01\" y=\"108.656682\"/>\n     <use style=\"fill:#1f77b4;stroke:#1f77b4;\" x=\"333.844257\" xlink:href=\"#mf03fa3ee01\" y=\"149.79019\"/>\n     <use style=\"fill:#1f77b4;stroke:#1f77b4;\" x=\"330.865028\" xlink:href=\"#mf03fa3ee01\" y=\"129.872976\"/>\n     <use style=\"fill:#1f77b4;stroke:#1f77b4;\" x=\"328.311404\" xlink:href=\"#mf03fa3ee01\" y=\"131.779104\"/>\n     <use style=\"fill:#1f77b4;stroke:#1f77b4;\" x=\"357.706457\" xlink:href=\"#mf03fa3ee01\" y=\"53.864616\"/>\n     <use style=\"fill:#1f77b4;stroke:#1f77b4;\" x=\"354.547529\" xlink:href=\"#mf03fa3ee01\" y=\"37.249739\"/>\n     <use style=\"fill:#1f77b4;stroke:#1f77b4;\" x=\"345.562555\" xlink:href=\"#mf03fa3ee01\" y=\"53.257569\"/>\n     <use style=\"fill:#1f77b4;stroke:#1f77b4;\" x=\"339.708135\" xlink:href=\"#mf03fa3ee01\" y=\"46.16119\"/>\n     <use style=\"fill:#1f77b4;stroke:#1f77b4;\" x=\"333.815883\" xlink:href=\"#mf03fa3ee01\" y=\"50.635126\"/>\n     <use style=\"fill:#1f77b4;stroke:#1f77b4;\" x=\"330.675871\" xlink:href=\"#mf03fa3ee01\" y=\"61.677312\"/>\n     <use style=\"fill:#1f77b4;stroke:#1f77b4;\" x=\"322.806925\" xlink:href=\"#mf03fa3ee01\" y=\"80.076908\"/>\n     <use style=\"fill:#1f77b4;stroke:#1f77b4;\" x=\"299.550029\" xlink:href=\"#mf03fa3ee01\" y=\"101.432822\"/>\n     <use style=\"fill:#1f77b4;stroke:#1f77b4;\" x=\"294.414407\" xlink:href=\"#mf03fa3ee01\" y=\"164.559644\"/>\n     <use style=\"fill:#1f77b4;stroke:#1f77b4;\" x=\"296.873452\" xlink:href=\"#mf03fa3ee01\" y=\"56.960556\"/>\n     <use style=\"fill:#1f77b4;stroke:#1f77b4;\" x=\"282.450204\" xlink:href=\"#mf03fa3ee01\" y=\"62.144738\"/>\n     <use style=\"fill:#1f77b4;stroke:#1f77b4;\" x=\"283.75539\" xlink:href=\"#mf03fa3ee01\" y=\"125.836113\"/>\n     <use style=\"fill:#1f77b4;stroke:#1f77b4;\" x=\"254.984557\" xlink:href=\"#mf03fa3ee01\" y=\"19.766784\"/>\n     <use style=\"fill:#1f77b4;stroke:#1f77b4;\" x=\"263.127781\" xlink:href=\"#mf03fa3ee01\" y=\"75.821508\"/>\n     <use style=\"fill:#1f77b4;stroke:#1f77b4;\" x=\"261.255123\" xlink:href=\"#mf03fa3ee01\" y=\"87.586079\"/>\n     <use style=\"fill:#1f77b4;stroke:#1f77b4;\" x=\"258.332642\" xlink:href=\"#mf03fa3ee01\" y=\"89.832154\"/>\n     <use style=\"fill:#1f77b4;stroke:#1f77b4;\" x=\"259.117645\" xlink:href=\"#mf03fa3ee01\" y=\"103.484641\"/>\n     <use style=\"fill:#1f77b4;stroke:#1f77b4;\" x=\"238.60353\" xlink:href=\"#mf03fa3ee01\" y=\"32.186967\"/>\n     <use style=\"fill:#1f77b4;stroke:#1f77b4;\" x=\"248.307302\" xlink:href=\"#mf03fa3ee01\" y=\"68.196997\"/>\n     <use style=\"fill:#1f77b4;stroke:#1f77b4;\" x=\"265.180138\" xlink:href=\"#mf03fa3ee01\" y=\"127.299097\"/>\n     <use style=\"fill:#1f77b4;stroke:#1f77b4;\" x=\"234.87713\" xlink:href=\"#mf03fa3ee01\" y=\"46.792518\"/>\n     <use style=\"fill:#1f77b4;stroke:#1f77b4;\" x=\"244.647108\" xlink:href=\"#mf03fa3ee01\" y=\"77.357337\"/>\n     <use style=\"fill:#1f77b4;stroke:#1f77b4;\" x=\"214.372474\" xlink:href=\"#mf03fa3ee01\" y=\"18.206673\"/>\n     <use style=\"fill:#1f77b4;stroke:#1f77b4;\" x=\"219.829663\" xlink:href=\"#mf03fa3ee01\" y=\"34.645507\"/>\n     <use style=\"fill:#1f77b4;stroke:#1f77b4;\" x=\"226.554207\" xlink:href=\"#mf03fa3ee01\" y=\"77.326985\"/>\n     <use style=\"fill:#1f77b4;stroke:#1f77b4;\" x=\"225.381431\" xlink:href=\"#mf03fa3ee01\" y=\"75.627253\"/>\n     <use style=\"fill:#1f77b4;stroke:#1f77b4;\" x=\"212.414695\" xlink:href=\"#mf03fa3ee01\" y=\"69.738897\"/>\n     <use style=\"fill:#1f77b4;stroke:#1f77b4;\" x=\"200.913928\" xlink:href=\"#mf03fa3ee01\" y=\"59.552647\"/>\n     <use style=\"fill:#1f77b4;stroke:#1f77b4;\" x=\"173.987379\" xlink:href=\"#mf03fa3ee01\" y=\"17.083636\"/>\n     <use style=\"fill:#1f77b4;stroke:#1f77b4;\" x=\"223.707389\" xlink:href=\"#mf03fa3ee01\" y=\"103.648544\"/>\n     <use style=\"fill:#1f77b4;stroke:#1f77b4;\" x=\"252.109365\" xlink:href=\"#mf03fa3ee01\" y=\"150.731112\"/>\n     <use style=\"fill:#1f77b4;stroke:#1f77b4;\" x=\"169.693507\" xlink:href=\"#mf03fa3ee01\" y=\"17.739247\"/>\n     <use style=\"fill:#1f77b4;stroke:#1f77b4;\" x=\"212.320116\" xlink:href=\"#mf03fa3ee01\" y=\"93.832593\"/>\n     <use style=\"fill:#1f77b4;stroke:#1f77b4;\" x=\"169.958327\" xlink:href=\"#mf03fa3ee01\" y=\"33.504259\"/>\n     <use style=\"fill:#1f77b4;stroke:#1f77b4;\" x=\"172.483578\" xlink:href=\"#mf03fa3ee01\" y=\"38.767357\"/>\n     <use style=\"fill:#1f77b4;stroke:#1f77b4;\" x=\"202.029956\" xlink:href=\"#mf03fa3ee01\" y=\"101.341765\"/>\n     <use style=\"fill:#1f77b4;stroke:#1f77b4;\" x=\"212.6606\" xlink:href=\"#mf03fa3ee01\" y=\"115.759133\"/>\n     <use style=\"fill:#1f77b4;stroke:#1f77b4;\" x=\"183.899224\" xlink:href=\"#mf03fa3ee01\" y=\"83.324609\"/>\n     <use style=\"fill:#1f77b4;stroke:#1f77b4;\" x=\"145.95426\" xlink:href=\"#mf03fa3ee01\" y=\"53.26364\"/>\n     <use style=\"fill:#1f77b4;stroke:#1f77b4;\" x=\"111.22497\" xlink:href=\"#mf03fa3ee01\" y=\"19.803207\"/>\n     <use style=\"fill:#1f77b4;stroke:#1f77b4;\" x=\"145.452993\" xlink:href=\"#mf03fa3ee01\" y=\"57.64652\"/>\n     <use style=\"fill:#1f77b4;stroke:#1f77b4;\" x=\"150.333252\" xlink:href=\"#mf03fa3ee01\" y=\"67.948108\"/>\n     <use style=\"fill:#1f77b4;stroke:#1f77b4;\" x=\"211.317582\" xlink:href=\"#mf03fa3ee01\" y=\"135.117863\"/>\n     <use style=\"fill:#1f77b4;stroke:#1f77b4;\" x=\"259.543249\" xlink:href=\"#mf03fa3ee01\" y=\"183.378102\"/>\n     <use style=\"fill:#1f77b4;stroke:#1f77b4;\" x=\"176.503172\" xlink:href=\"#mf03fa3ee01\" y=\"105.002259\"/>\n     <use style=\"fill:#1f77b4;stroke:#1f77b4;\" x=\"206.512986\" xlink:href=\"#mf03fa3ee01\" y=\"135.658134\"/>\n     <use style=\"fill:#1f77b4;stroke:#1f77b4;\" x=\"146.720347\" xlink:href=\"#mf03fa3ee01\" y=\"83.118213\"/>\n     <use style=\"fill:#1f77b4;stroke:#1f77b4;\" x=\"115.575589\" xlink:href=\"#mf03fa3ee01\" y=\"56.565976\"/>\n     <use style=\"fill:#1f77b4;stroke:#1f77b4;\" x=\"255.258835\" xlink:href=\"#mf03fa3ee01\" y=\"184.106559\"/>\n     <use style=\"fill:#1f77b4;stroke:#1f77b4;\" x=\"82.775704\" xlink:href=\"#mf03fa3ee01\" y=\"45.408451\"/>\n     <use style=\"fill:#1f77b4;stroke:#1f77b4;\" x=\"94.314303\" xlink:href=\"#mf03fa3ee01\" y=\"56.572046\"/>\n     <use style=\"fill:#1f77b4;stroke:#1f77b4;\" x=\"224.586971\" xlink:href=\"#mf03fa3ee01\" y=\"164.857097\"/>\n     <use style=\"fill:#1f77b4;stroke:#1f77b4;\" x=\"153.028744\" xlink:href=\"#mf03fa3ee01\" y=\"111.752622\"/>\n     <use style=\"fill:#1f77b4;stroke:#1f77b4;\" x=\"117.675235\" xlink:href=\"#mf03fa3ee01\" y=\"93.686902\"/>\n     <use style=\"fill:#1f77b4;stroke:#1f77b4;\" x=\"156.112009\" xlink:href=\"#mf03fa3ee01\" y=\"122.3031\"/>\n     <use style=\"fill:#1f77b4;stroke:#1f77b4;\" x=\"199.419585\" xlink:href=\"#mf03fa3ee01\" y=\"152.297294\"/>\n     <use style=\"fill:#1f77b4;stroke:#1f77b4;\" x=\"117.940056\" xlink:href=\"#mf03fa3ee01\" y=\"97.01959\"/>\n     <use style=\"fill:#1f77b4;stroke:#1f77b4;\" x=\"201.008507\" xlink:href=\"#mf03fa3ee01\" y=\"154.780116\"/>\n     <use style=\"fill:#1f77b4;stroke:#1f77b4;\" x=\"134.169757\" xlink:href=\"#mf03fa3ee01\" y=\"111.072729\"/>\n     <use style=\"fill:#1f77b4;stroke:#1f77b4;\" x=\"111.991057\" xlink:href=\"#mf03fa3ee01\" y=\"99.793795\"/>\n     <use style=\"fill:#1f77b4;stroke:#1f77b4;\" x=\"140.336286\" xlink:href=\"#mf03fa3ee01\" y=\"121.465375\"/>\n     <use style=\"fill:#1f77b4;stroke:#1f77b4;\" x=\"78.207554\" xlink:href=\"#mf03fa3ee01\" y=\"85.485697\"/>\n     <use style=\"fill:#1f77b4;stroke:#1f77b4;\" x=\"148.801078\" xlink:href=\"#mf03fa3ee01\" y=\"129.976174\"/>\n     <use style=\"fill:#1f77b4;stroke:#1f77b4;\" x=\"86.246742\" xlink:href=\"#mf03fa3ee01\" y=\"96.10902\"/>\n     <use style=\"fill:#1f77b4;stroke:#1f77b4;\" x=\"261.349702\" xlink:href=\"#mf03fa3ee01\" y=\"197.631567\"/>\n     <use style=\"fill:#1f77b4;stroke:#1f77b4;\" x=\"61.798154\" xlink:href=\"#mf03fa3ee01\" y=\"84.022713\"/>\n     <use style=\"fill:#1f77b4;stroke:#1f77b4;\" x=\"90.029889\" xlink:href=\"#mf03fa3ee01\" y=\"102.95044\"/>\n     <use style=\"fill:#1f77b4;stroke:#1f77b4;\" x=\"95.553283\" xlink:href=\"#mf03fa3ee01\" y=\"117.483146\"/>\n     <use style=\"fill:#1f77b4;stroke:#1f77b4;\" x=\"119.47223\" xlink:href=\"#mf03fa3ee01\" y=\"133.745936\"/>\n     <use style=\"fill:#1f77b4;stroke:#1f77b4;\" x=\"107.460739\" xlink:href=\"#mf03fa3ee01\" y=\"138.869413\"/>\n     <use style=\"fill:#1f77b4;stroke:#1f77b4;\" x=\"224.974743\" xlink:href=\"#mf03fa3ee01\" y=\"192.010311\"/>\n     <use style=\"fill:#1f77b4;stroke:#1f77b4;\" x=\"212.339032\" xlink:href=\"#mf03fa3ee01\" y=\"191.524673\"/>\n     <use style=\"fill:#1f77b4;stroke:#1f77b4;\" x=\"158.315692\" xlink:href=\"#mf03fa3ee01\" y=\"176.415273\"/>\n     <use style=\"fill:#1f77b4;stroke:#1f77b4;\" x=\"139.447247\" xlink:href=\"#mf03fa3ee01\" y=\"173.829252\"/>\n     <use style=\"fill:#1f77b4;stroke:#1f77b4;\" x=\"150.957471\" xlink:href=\"#mf03fa3ee01\" y=\"184.464716\"/>\n     <use style=\"fill:#1f77b4;stroke:#1f77b4;\" x=\"61.230682\" xlink:href=\"#mf03fa3ee01\" y=\"166.653956\"/>\n     <use style=\"fill:#1f77b4;stroke:#1f77b4;\" x=\"142.842621\" xlink:href=\"#mf03fa3ee01\" y=\"183.99729\"/>\n     <use style=\"fill:#1f77b4;stroke:#1f77b4;\" x=\"168.236996\" xlink:href=\"#mf03fa3ee01\" y=\"190.486623\"/>\n     <use style=\"fill:#1f77b4;stroke:#1f77b4;\" x=\"118.649396\" xlink:href=\"#mf03fa3ee01\" y=\"181.41127\"/>\n     <use style=\"fill:#1f77b4;stroke:#1f77b4;\" x=\"283.320328\" xlink:href=\"#mf03fa3ee01\" y=\"213.354085\"/>\n     <use style=\"fill:#1f77b4;stroke:#1f77b4;\" x=\"62.431831\" xlink:href=\"#mf03fa3ee01\" y=\"183.35382\"/>\n     <use style=\"fill:#1f77b4;stroke:#1f77b4;\" x=\"150.711567\" xlink:href=\"#mf03fa3ee01\" y=\"196.156442\"/>\n     <use style=\"fill:#1f77b4;stroke:#1f77b4;\" x=\"231.19802\" xlink:href=\"#mf03fa3ee01\" y=\"208.38844\"/>\n     <use style=\"fill:#1f77b4;stroke:#1f77b4;\" x=\"108.264657\" xlink:href=\"#mf03fa3ee01\" y=\"206.700849\"/>\n     <use style=\"fill:#1f77b4;stroke:#1f77b4;\" x=\"124.35249\" xlink:href=\"#mf03fa3ee01\" y=\"208.163833\"/>\n     <use style=\"fill:#1f77b4;stroke:#1f77b4;\" x=\"185.081458\" xlink:href=\"#mf03fa3ee01\" y=\"212.51636\"/>\n    </g>\n   </g>\n   <g id=\"matplotlib.axis_1\">\n    <g id=\"xtick_1\">\n     <g id=\"line2d_1\">\n      <defs>\n       <path d=\"M 0 0 \nL 0 3.5 \n\" id=\"mc11fa0cb08\" style=\"stroke:#000000;stroke-width:0.8;\"/>\n      </defs>\n      <g>\n       <use style=\"stroke:#000000;stroke-width:0.8;\" x=\"59.82146\" xlink:href=\"#mc11fa0cb08\" y=\"224.64\"/>\n      </g>\n     </g>\n     <g id=\"text_1\">\n      <!-- 0 -->\n      <g transform=\"translate(56.64021 239.238437)scale(0.1 -0.1)\">\n       <defs>\n        <path d=\"M 31.78125 66.40625 \nQ 24.171875 66.40625 20.328125 58.90625 \nQ 16.5 51.421875 16.5 36.375 \nQ 16.5 21.390625 20.328125 13.890625 \nQ 24.171875 6.390625 31.78125 6.390625 \nQ 39.453125 6.390625 43.28125 13.890625 \nQ 47.125 21.390625 47.125 36.375 \nQ 47.125 51.421875 43.28125 58.90625 \nQ 39.453125 66.40625 31.78125 66.40625 \nz\nM 31.78125 74.21875 \nQ 44.046875 74.21875 50.515625 64.515625 \nQ 56.984375 54.828125 56.984375 36.375 \nQ 56.984375 17.96875 50.515625 8.265625 \nQ 44.046875 -1.421875 31.78125 -1.421875 \nQ 19.53125 -1.421875 13.0625 8.265625 \nQ 6.59375 17.96875 6.59375 36.375 \nQ 6.59375 54.828125 13.0625 64.515625 \nQ 19.53125 74.21875 31.78125 74.21875 \nz\n\" id=\"DejaVuSans-48\"/>\n       </defs>\n       <use xlink:href=\"#DejaVuSans-48\"/>\n      </g>\n     </g>\n    </g>\n    <g id=\"xtick_2\">\n     <g id=\"line2d_2\">\n      <g>\n       <use style=\"stroke:#000000;stroke-width:0.8;\" x=\"107.110797\" xlink:href=\"#mc11fa0cb08\" y=\"224.64\"/>\n      </g>\n     </g>\n     <g id=\"text_2\">\n      <!-- 5000 -->\n      <g transform=\"translate(94.385797 239.238437)scale(0.1 -0.1)\">\n       <defs>\n        <path d=\"M 10.796875 72.90625 \nL 49.515625 72.90625 \nL 49.515625 64.59375 \nL 19.828125 64.59375 \nL 19.828125 46.734375 \nQ 21.96875 47.46875 24.109375 47.828125 \nQ 26.265625 48.1875 28.421875 48.1875 \nQ 40.625 48.1875 47.75 41.5 \nQ 54.890625 34.8125 54.890625 23.390625 \nQ 54.890625 11.625 47.5625 5.09375 \nQ 40.234375 -1.421875 26.90625 -1.421875 \nQ 22.3125 -1.421875 17.546875 -0.640625 \nQ 12.796875 0.140625 7.71875 1.703125 \nL 7.71875 11.625 \nQ 12.109375 9.234375 16.796875 8.0625 \nQ 21.484375 6.890625 26.703125 6.890625 \nQ 35.15625 6.890625 40.078125 11.328125 \nQ 45.015625 15.765625 45.015625 23.390625 \nQ 45.015625 31 40.078125 35.4375 \nQ 35.15625 39.890625 26.703125 39.890625 \nQ 22.75 39.890625 18.8125 39.015625 \nQ 14.890625 38.140625 10.796875 36.28125 \nz\n\" id=\"DejaVuSans-53\"/>\n       </defs>\n       <use xlink:href=\"#DejaVuSans-53\"/>\n       <use x=\"63.623047\" xlink:href=\"#DejaVuSans-48\"/>\n       <use x=\"127.246094\" xlink:href=\"#DejaVuSans-48\"/>\n       <use x=\"190.869141\" xlink:href=\"#DejaVuSans-48\"/>\n      </g>\n     </g>\n    </g>\n    <g id=\"xtick_3\">\n     <g id=\"line2d_3\">\n      <g>\n       <use style=\"stroke:#000000;stroke-width:0.8;\" x=\"154.400135\" xlink:href=\"#mc11fa0cb08\" y=\"224.64\"/>\n      </g>\n     </g>\n     <g id=\"text_3\">\n      <!-- 10000 -->\n      <g transform=\"translate(138.493885 239.238437)scale(0.1 -0.1)\">\n       <defs>\n        <path d=\"M 12.40625 8.296875 \nL 28.515625 8.296875 \nL 28.515625 63.921875 \nL 10.984375 60.40625 \nL 10.984375 69.390625 \nL 28.421875 72.90625 \nL 38.28125 72.90625 \nL 38.28125 8.296875 \nL 54.390625 8.296875 \nL 54.390625 0 \nL 12.40625 0 \nz\n\" id=\"DejaVuSans-49\"/>\n       </defs>\n       <use xlink:href=\"#DejaVuSans-49\"/>\n       <use x=\"63.623047\" xlink:href=\"#DejaVuSans-48\"/>\n       <use x=\"127.246094\" xlink:href=\"#DejaVuSans-48\"/>\n       <use x=\"190.869141\" xlink:href=\"#DejaVuSans-48\"/>\n       <use x=\"254.492188\" xlink:href=\"#DejaVuSans-48\"/>\n      </g>\n     </g>\n    </g>\n    <g id=\"xtick_4\">\n     <g id=\"line2d_4\">\n      <g>\n       <use style=\"stroke:#000000;stroke-width:0.8;\" x=\"201.689473\" xlink:href=\"#mc11fa0cb08\" y=\"224.64\"/>\n      </g>\n     </g>\n     <g id=\"text_4\">\n      <!-- 15000 -->\n      <g transform=\"translate(185.783223 239.238437)scale(0.1 -0.1)\">\n       <use xlink:href=\"#DejaVuSans-49\"/>\n       <use x=\"63.623047\" xlink:href=\"#DejaVuSans-53\"/>\n       <use x=\"127.246094\" xlink:href=\"#DejaVuSans-48\"/>\n       <use x=\"190.869141\" xlink:href=\"#DejaVuSans-48\"/>\n       <use x=\"254.492188\" xlink:href=\"#DejaVuSans-48\"/>\n      </g>\n     </g>\n    </g>\n    <g id=\"xtick_5\">\n     <g id=\"line2d_5\">\n      <g>\n       <use style=\"stroke:#000000;stroke-width:0.8;\" x=\"248.978811\" xlink:href=\"#mc11fa0cb08\" y=\"224.64\"/>\n      </g>\n     </g>\n     <g id=\"text_5\">\n      <!-- 20000 -->\n      <g transform=\"translate(233.072561 239.238437)scale(0.1 -0.1)\">\n       <defs>\n        <path d=\"M 19.1875 8.296875 \nL 53.609375 8.296875 \nL 53.609375 0 \nL 7.328125 0 \nL 7.328125 8.296875 \nQ 12.9375 14.109375 22.625 23.890625 \nQ 32.328125 33.6875 34.8125 36.53125 \nQ 39.546875 41.84375 41.421875 45.53125 \nQ 43.3125 49.21875 43.3125 52.78125 \nQ 43.3125 58.59375 39.234375 62.25 \nQ 35.15625 65.921875 28.609375 65.921875 \nQ 23.96875 65.921875 18.8125 64.3125 \nQ 13.671875 62.703125 7.8125 59.421875 \nL 7.8125 69.390625 \nQ 13.765625 71.78125 18.9375 73 \nQ 24.125 74.21875 28.421875 74.21875 \nQ 39.75 74.21875 46.484375 68.546875 \nQ 53.21875 62.890625 53.21875 53.421875 \nQ 53.21875 48.921875 51.53125 44.890625 \nQ 49.859375 40.875 45.40625 35.40625 \nQ 44.1875 33.984375 37.640625 27.21875 \nQ 31.109375 20.453125 19.1875 8.296875 \nz\n\" id=\"DejaVuSans-50\"/>\n       </defs>\n       <use xlink:href=\"#DejaVuSans-50\"/>\n       <use x=\"63.623047\" xlink:href=\"#DejaVuSans-48\"/>\n       <use x=\"127.246094\" xlink:href=\"#DejaVuSans-48\"/>\n       <use x=\"190.869141\" xlink:href=\"#DejaVuSans-48\"/>\n       <use x=\"254.492188\" xlink:href=\"#DejaVuSans-48\"/>\n      </g>\n     </g>\n    </g>\n    <g id=\"xtick_6\">\n     <g id=\"line2d_6\">\n      <g>\n       <use style=\"stroke:#000000;stroke-width:0.8;\" x=\"296.268149\" xlink:href=\"#mc11fa0cb08\" y=\"224.64\"/>\n      </g>\n     </g>\n     <g id=\"text_6\">\n      <!-- 25000 -->\n      <g transform=\"translate(280.361899 239.238437)scale(0.1 -0.1)\">\n       <use xlink:href=\"#DejaVuSans-50\"/>\n       <use x=\"63.623047\" xlink:href=\"#DejaVuSans-53\"/>\n       <use x=\"127.246094\" xlink:href=\"#DejaVuSans-48\"/>\n       <use x=\"190.869141\" xlink:href=\"#DejaVuSans-48\"/>\n       <use x=\"254.492188\" xlink:href=\"#DejaVuSans-48\"/>\n      </g>\n     </g>\n    </g>\n    <g id=\"xtick_7\">\n     <g id=\"line2d_7\">\n      <g>\n       <use style=\"stroke:#000000;stroke-width:0.8;\" x=\"343.557487\" xlink:href=\"#mc11fa0cb08\" y=\"224.64\"/>\n      </g>\n     </g>\n     <g id=\"text_7\">\n      <!-- 30000 -->\n      <g transform=\"translate(327.651237 239.238437)scale(0.1 -0.1)\">\n       <defs>\n        <path d=\"M 40.578125 39.3125 \nQ 47.65625 37.796875 51.625 33 \nQ 55.609375 28.21875 55.609375 21.1875 \nQ 55.609375 10.40625 48.1875 4.484375 \nQ 40.765625 -1.421875 27.09375 -1.421875 \nQ 22.515625 -1.421875 17.65625 -0.515625 \nQ 12.796875 0.390625 7.625 2.203125 \nL 7.625 11.71875 \nQ 11.71875 9.328125 16.59375 8.109375 \nQ 21.484375 6.890625 26.8125 6.890625 \nQ 36.078125 6.890625 40.9375 10.546875 \nQ 45.796875 14.203125 45.796875 21.1875 \nQ 45.796875 27.640625 41.28125 31.265625 \nQ 36.765625 34.90625 28.71875 34.90625 \nL 20.21875 34.90625 \nL 20.21875 43.015625 \nL 29.109375 43.015625 \nQ 36.375 43.015625 40.234375 45.921875 \nQ 44.09375 48.828125 44.09375 54.296875 \nQ 44.09375 59.90625 40.109375 62.90625 \nQ 36.140625 65.921875 28.71875 65.921875 \nQ 24.65625 65.921875 20.015625 65.03125 \nQ 15.375 64.15625 9.8125 62.3125 \nL 9.8125 71.09375 \nQ 15.4375 72.65625 20.34375 73.4375 \nQ 25.25 74.21875 29.59375 74.21875 \nQ 40.828125 74.21875 47.359375 69.109375 \nQ 53.90625 64.015625 53.90625 55.328125 \nQ 53.90625 49.265625 50.4375 45.09375 \nQ 46.96875 40.921875 40.578125 39.3125 \nz\n\" id=\"DejaVuSans-51\"/>\n       </defs>\n       <use xlink:href=\"#DejaVuSans-51\"/>\n       <use x=\"63.623047\" xlink:href=\"#DejaVuSans-48\"/>\n       <use x=\"127.246094\" xlink:href=\"#DejaVuSans-48\"/>\n       <use x=\"190.869141\" xlink:href=\"#DejaVuSans-48\"/>\n       <use x=\"254.492188\" xlink:href=\"#DejaVuSans-48\"/>\n      </g>\n     </g>\n    </g>\n   </g>\n   <g id=\"matplotlib.axis_2\">\n    <g id=\"ytick_1\">\n     <g id=\"line2d_8\">\n      <defs>\n       <path d=\"M 0 0 \nL -3.5 0 \n\" id=\"md0f3f02ba8\" style=\"stroke:#000000;stroke-width:0.8;\"/>\n      </defs>\n      <g>\n       <use style=\"stroke:#000000;stroke-width:0.8;\" x=\"46.0125\" xlink:href=\"#md0f3f02ba8\" y=\"215.496961\"/>\n      </g>\n     </g>\n     <g id=\"text_8\">\n      <!-- 0 -->\n      <g transform=\"translate(32.65 219.29618)scale(0.1 -0.1)\">\n       <use xlink:href=\"#DejaVuSans-48\"/>\n      </g>\n     </g>\n    </g>\n    <g id=\"ytick_2\">\n     <g id=\"line2d_9\">\n      <g>\n       <use style=\"stroke:#000000;stroke-width:0.8;\" x=\"46.0125\" xlink:href=\"#md0f3f02ba8\" y=\"185.144609\"/>\n      </g>\n     </g>\n     <g id=\"text_9\">\n      <!-- 5000 -->\n      <g transform=\"translate(13.5625 188.943828)scale(0.1 -0.1)\">\n       <use xlink:href=\"#DejaVuSans-53\"/>\n       <use x=\"63.623047\" xlink:href=\"#DejaVuSans-48\"/>\n       <use x=\"127.246094\" xlink:href=\"#DejaVuSans-48\"/>\n       <use x=\"190.869141\" xlink:href=\"#DejaVuSans-48\"/>\n      </g>\n     </g>\n    </g>\n    <g id=\"ytick_3\">\n     <g id=\"line2d_10\">\n      <g>\n       <use style=\"stroke:#000000;stroke-width:0.8;\" x=\"46.0125\" xlink:href=\"#md0f3f02ba8\" y=\"154.792257\"/>\n      </g>\n     </g>\n     <g id=\"text_10\">\n      <!-- 10000 -->\n      <g transform=\"translate(7.2 158.591476)scale(0.1 -0.1)\">\n       <use xlink:href=\"#DejaVuSans-49\"/>\n       <use x=\"63.623047\" xlink:href=\"#DejaVuSans-48\"/>\n       <use x=\"127.246094\" xlink:href=\"#DejaVuSans-48\"/>\n       <use x=\"190.869141\" xlink:href=\"#DejaVuSans-48\"/>\n       <use x=\"254.492188\" xlink:href=\"#DejaVuSans-48\"/>\n      </g>\n     </g>\n    </g>\n    <g id=\"ytick_4\">\n     <g id=\"line2d_11\">\n      <g>\n       <use style=\"stroke:#000000;stroke-width:0.8;\" x=\"46.0125\" xlink:href=\"#md0f3f02ba8\" y=\"124.439905\"/>\n      </g>\n     </g>\n     <g id=\"text_11\">\n      <!-- 15000 -->\n      <g transform=\"translate(7.2 128.239124)scale(0.1 -0.1)\">\n       <use xlink:href=\"#DejaVuSans-49\"/>\n       <use x=\"63.623047\" xlink:href=\"#DejaVuSans-53\"/>\n       <use x=\"127.246094\" xlink:href=\"#DejaVuSans-48\"/>\n       <use x=\"190.869141\" xlink:href=\"#DejaVuSans-48\"/>\n       <use x=\"254.492188\" xlink:href=\"#DejaVuSans-48\"/>\n      </g>\n     </g>\n    </g>\n    <g id=\"ytick_5\">\n     <g id=\"line2d_12\">\n      <g>\n       <use style=\"stroke:#000000;stroke-width:0.8;\" x=\"46.0125\" xlink:href=\"#md0f3f02ba8\" y=\"94.087553\"/>\n      </g>\n     </g>\n     <g id=\"text_12\">\n      <!-- 20000 -->\n      <g transform=\"translate(7.2 97.886772)scale(0.1 -0.1)\">\n       <use xlink:href=\"#DejaVuSans-50\"/>\n       <use x=\"63.623047\" xlink:href=\"#DejaVuSans-48\"/>\n       <use x=\"127.246094\" xlink:href=\"#DejaVuSans-48\"/>\n       <use x=\"190.869141\" xlink:href=\"#DejaVuSans-48\"/>\n       <use x=\"254.492188\" xlink:href=\"#DejaVuSans-48\"/>\n      </g>\n     </g>\n    </g>\n    <g id=\"ytick_6\">\n     <g id=\"line2d_13\">\n      <g>\n       <use style=\"stroke:#000000;stroke-width:0.8;\" x=\"46.0125\" xlink:href=\"#md0f3f02ba8\" y=\"63.735201\"/>\n      </g>\n     </g>\n     <g id=\"text_13\">\n      <!-- 25000 -->\n      <g transform=\"translate(7.2 67.53442)scale(0.1 -0.1)\">\n       <use xlink:href=\"#DejaVuSans-50\"/>\n       <use x=\"63.623047\" xlink:href=\"#DejaVuSans-53\"/>\n       <use x=\"127.246094\" xlink:href=\"#DejaVuSans-48\"/>\n       <use x=\"190.869141\" xlink:href=\"#DejaVuSans-48\"/>\n       <use x=\"254.492188\" xlink:href=\"#DejaVuSans-48\"/>\n      </g>\n     </g>\n    </g>\n    <g id=\"ytick_7\">\n     <g id=\"line2d_14\">\n      <g>\n       <use style=\"stroke:#000000;stroke-width:0.8;\" x=\"46.0125\" xlink:href=\"#md0f3f02ba8\" y=\"33.382849\"/>\n      </g>\n     </g>\n     <g id=\"text_14\">\n      <!-- 30000 -->\n      <g transform=\"translate(7.2 37.182068)scale(0.1 -0.1)\">\n       <use xlink:href=\"#DejaVuSans-51\"/>\n       <use x=\"63.623047\" xlink:href=\"#DejaVuSans-48\"/>\n       <use x=\"127.246094\" xlink:href=\"#DejaVuSans-48\"/>\n       <use x=\"190.869141\" xlink:href=\"#DejaVuSans-48\"/>\n       <use x=\"254.492188\" xlink:href=\"#DejaVuSans-48\"/>\n      </g>\n     </g>\n    </g>\n   </g>\n   <g id=\"line2d_15\">\n    <path clip-path=\"url(#p066de8cc00)\" d=\"M 174.762924 214.756364 \nL 290.933912 214.610672 \nL 360.714059 202.117644 \nL 365.594318 168.596507 \nL 363.286598 108.656682 \nL 357.706457 53.864616 \nL 354.547529 37.249739 \nL 254.984557 19.766784 \nL 214.372474 18.206673 \nL 173.987379 17.083636 \nL 111.22497 19.803207 \nL 82.775704 45.408451 \nL 61.798154 84.022713 \nL 61.230682 166.653956 \nL 62.431831 183.35382 \nL 108.264657 206.700849 \nL 124.35249 208.163833 \nL 185.081458 212.51636 \nL 174.762924 214.756364 \nL 174.762924 214.756364 \nL 174.762924 214.756364 \n\" style=\"fill:none;stroke:#1f77b4;stroke-linecap:square;stroke-width:1.5;\"/>\n   </g>\n   <g id=\"patch_3\">\n    <path d=\"M 46.0125 224.64 \nL 46.0125 7.2 \n\" style=\"fill:none;stroke:#000000;stroke-linecap:square;stroke-linejoin:miter;stroke-width:0.8;\"/>\n   </g>\n   <g id=\"patch_4\">\n    <path d=\"M 380.8125 224.64 \nL 380.8125 7.2 \n\" style=\"fill:none;stroke:#000000;stroke-linecap:square;stroke-linejoin:miter;stroke-width:0.8;\"/>\n   </g>\n   <g id=\"patch_5\">\n    <path d=\"M 46.0125 224.64 \nL 380.8125 224.64 \n\" style=\"fill:none;stroke:#000000;stroke-linecap:square;stroke-linejoin:miter;stroke-width:0.8;\"/>\n   </g>\n   <g id=\"patch_6\">\n    <path d=\"M 46.0125 7.2 \nL 380.8125 7.2 \n\" style=\"fill:none;stroke:#000000;stroke-linecap:square;stroke-linejoin:miter;stroke-width:0.8;\"/>\n   </g>\n  </g>\n </g>\n <defs>\n  <clipPath id=\"p066de8cc00\">\n   <rect height=\"217.44\" width=\"334.8\" x=\"46.0125\" y=\"7.2\"/>\n  </clipPath>\n </defs>\n</svg>\n",
      "image/png": "[encoded data removed]"
     },
     "metadata": {
      "needs_background": "light"
     }
    }
   ],
   "source": [
    "import matplotlib.pyplot as plt\n",
    "\n",
    "# inputSet and outputSet should have been defined above. \n",
    "# uncomment the next two lines only if you wish to test the plotting code before coding your algorithm\n",
    "\n",
    "#inputSet = [[1,1], [2,2] , [3, 3], [4,4], [1,4], [3,1], [1, 5], [2, 4], [3, 5]]\n",
    "#outputSet = [[1,1], [3,1] , [4, 4], [3,5], [1,5]]\n",
    "\n",
    "plt.figure()\n",
    "\n",
    "#first do a scatter plot of the inputSet\n",
    "input_xs, input_ys = zip(*inputSet)\n",
    "plt.scatter(input_xs, input_ys)\n",
    "\n",
    "#then do a polygon plot of the computed covex hull\n",
    "outputSet.append(outputSet[0]) #first create a 'closed loop' by adding the first point at the end of the list\n",
    "output_xs, output_ys = zip(*outputSet) \n",
    "plt.plot(output_xs, output_ys) \n",
    "\n",
    "plt.show() "
   ]
  },
  {
   "cell_type": "code",
   "execution_count": null,
   "metadata": {},
   "outputs": [],
   "source": []
  },
  {
   "cell_type": "code",
   "execution_count": null,
   "metadata": {},
   "outputs": [],
   "source": []
  },
  {
   "cell_type": "code",
   "execution_count": null,
   "metadata": {},
   "outputs": [],
   "source": []
  }
 ],
 "metadata": {
  "kernelspec": {
   "display_name": "Python 3",
   "language": "python",
   "name": "python3"
  },
  "language_info": {
   "codemirror_mode": {
    "name": "ipython",
    "version": 3
   },
   "file_extension": ".py",
   "mimetype": "text/x-python",
   "name": "python",
   "nbconvert_exporter": "python",
   "pygments_lexer": "ipython3",
   "version": "3.8.6-final"
  }
 },
 "nbformat": 4,
 "nbformat_minor": 4
}
