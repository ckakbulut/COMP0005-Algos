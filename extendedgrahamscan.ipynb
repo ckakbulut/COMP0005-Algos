{
 "cells": [
  {
   "cell_type": "markdown",
   "metadata": {},
   "source": [
    "# Extended Graham scan algorithm"
   ]
  },
  {
   "cell_type": "markdown",
   "metadata": {},
   "source": [
    "## Extended graham scan algorithm implementation"
   ]
  },
  {
   "cell_type": "code",
   "execution_count": null,
   "metadata": {
    "scrolled": true
   },
   "outputs": [],
   "source": [
    "import math\n",
    "\n",
    "def find_edge_points(inputSet):\n",
    "    #b -> bottom most point, t -> top most point, l -> left most point, r -> right most point\n",
    "    b,t,l,r = inputSet[0],inputSet[0],inputSet[0],inputSet[0]\n",
    "\n",
    "    for i in range(1,len(inputSet)):\n",
    "        if inputSet[i][1] < b[1]:\n",
    "            b = inputSet[i]\n",
    "        elif inputSet[i][1] == b[1] and inputSet[i][0] < b[0]:\n",
    "            b = inputSet[i]\n",
    "\n",
    "        if inputSet[i][1] > t[1]:\n",
    "            t = inputSet[i]\n",
    "        elif inputSet[i][1] == t[1] and inputSet[i][0] > t[0]:\n",
    "            t = inputSet[i]\n",
    "\n",
    "        if inputSet[i][0] < l[0]:\n",
    "            l = inputSet[i]\n",
    "        elif inputSet[i][0] == l[0] and inputSet[i][1] > l[1]:\n",
    "            l = inputSet[i]\n",
    "\n",
    "        if inputSet[i][0] > r[0]:\n",
    "            r = inputSet[i]\n",
    "        elif inputSet[i][0] == r[0] and inputSet[i][1] < r[1]:\n",
    "            r = inputSet[i]\n",
    "\n",
    "    return b,t,l,r\n",
    "\n",
    "def find_bottom_most(inputSet): \n",
    "    bottomMost = inputSet[0]\n",
    "    \n",
    "    for i in range(1,len(inputSet)):\n",
    "        if inputSet[i][1] < bottomMost[1]:\n",
    "            bottomMost = inputSet[i]\n",
    "        elif inputSet[i][1] == bottomMost[1] and inputSet[i][0] < bottomMost[0]:\n",
    "            bottomMost = inputSet[i]\n",
    "            \n",
    "    return bottomMost\n",
    "\n",
    "def find_highest_point(p1,p2,inputSet):\n",
    "\n",
    "    if len(inputSet) == 0: return\n",
    "    \n",
    "    target = inputSet[0]\n",
    "    for p in inputSet:\n",
    "        if abs(cross_product(p1,p2,p)) > abs(cross_product(p1,p2,target)):\n",
    "            target = p\n",
    "\n",
    "    return target\n",
    "\n",
    "def polar_angle(p1,p2):\n",
    "\n",
    "    if p1==p2: return 0\n",
    "    return (p2[0]-p1[0])/math.sqrt(distance(p1,p2))\n",
    "\n",
    "def distance(p2,p1):\n",
    "\n",
    "    return (p2[0]-p1[0])**2 + (p2[1]-p1[1])**2\n",
    "\n",
    "def cross_product(p1,p2,p3):\n",
    "\n",
    "    y1 = p2[1] - p1[1]\n",
    "    y2 = p3[1] - p1[1]\n",
    "    x1 = p2[0] - p1[0]\n",
    "    x2 = p3[0] - p1[0]\n",
    "\n",
    "    return y2 * x1 - y1 * x2\n",
    "\n",
    "def eliminate_dots(inputSet):\n",
    "    b,t,l,r = find_edge_points(inputSet)\n",
    "\n",
    "    res = []\n",
    "    for p in inputSet: \n",
    "        if not dot_in_area(b,t,l,r,p):\n",
    "            res.append(p)\n",
    "    return res\n",
    "\n",
    "def dot_in_area(b,t,l,r,point):\n",
    "    v1 = cross_product(b,r,point)\n",
    "    v2 = cross_product(r,t,point)\n",
    "    v3 = cross_product(t,l,point)\n",
    "    v4 = cross_product(l,b,point)\n",
    "\n",
    "    if v1 > 0 and v2 > 0 and v3 > 0 and v4 > 0:  #in middle\n",
    "        return True\n",
    "\n",
    "    return False\n",
    "       \n",
    "def grahamscan(inputSet):\n",
    "    if len(inputSet) <= 2: return\n",
    "\n",
    "    inputSet = eliminate_dots(inputSet)\n",
    "    start = find_bottom_most(inputSet)\n",
    "    pointsWithAngle = []\n",
    "    for p in inputSet:\n",
    "        pointsWithAngle.append([p,polar_angle(start,p)])\n",
    "        \n",
    "    sortedSet = [i[0] for i in sorted(pointsWithAngle, key = lambda x: x[1])]\n",
    "    outputSet = [start,sortedSet[0]]\n",
    "\n",
    "    for point in sortedSet:\n",
    "        while len(outputSet) >= 2 and cross_product(outputSet[-2],outputSet[-1],point) >= 0:\n",
    "            outputSet.pop()\n",
    "        outputSet.append(point)\n",
    "        \n",
    "    return outputSet"
   ]
  },
  {
   "cell_type": "markdown",
   "metadata": {},
   "source": [
    "## data points generation"
   ]
  },
  {
   "cell_type": "code",
   "execution_count": 386,
   "metadata": {},
   "outputs": [],
   "source": [
    "from random import *\n",
    "\n",
    "MAXX = 32767\n",
    "MAXY = 32767\n",
    "MINX = 0\n",
    "MINY = 0\n",
    "MIDDLE = [(MAXX-MINX)/2, (MAXY-MINY)/2]\n",
    "NS = [100, 500, 1000, 5000, 10000, 15000, 20000]\n",
    "\n",
    "def generate_random(N):\n",
    "    points = []\n",
    "    for p in range(N):\n",
    "        while True:\n",
    "            x = randint(MINX, MAXX)\n",
    "            y = randint(MINY, MAXY)\n",
    "            point = [x,y]\n",
    "            if point not in points:\n",
    "                break\n",
    "        points.append(point)\n",
    "        \n",
    "    return points\n",
    "\n",
    "def generate_worst(N):\n",
    "    points = []\n",
    "    radius = MAXX // 2\n",
    "    angle = 0\n",
    "    while len(points) <= N:\n",
    "        x=randint(1,30000)\n",
    "        y=randint(1,30000)\n",
    "        point = [x,y]\n",
    "        if distance([15000,15000],point)>15000**2:\n",
    "            points.append([x,y])\n",
    "            angle += (2*pi) / N\n",
    "    \n",
    "    return points\n"
   ]
  },
  {
   "cell_type": "markdown",
   "metadata": {},
   "source": [
    "## Timer function"
   ]
  },
  {
   "cell_type": "code",
   "execution_count": null,
   "metadata": {},
   "outputs": [],
   "source": [
    "import timeit\n",
    "\n",
    "def timer_random():\n",
    "    times = []\n",
    "    stmt_code = \"[grahamscan(inputSets_random[n]) for n in range(7)]\"\n",
    "    setup_code = '''\n",
    "from __main__ import grahamscan\n",
    "from __main__ import inputSets_random\n",
    "    '''\n",
    "    \n",
    "    for n in range(7):\n",
    "        time = timeit.timeit(lambda: grahamscan(inputSets_random[n]),setup = setup_code, number = 5)\n",
    "        times.append(time/5)\n",
    "    return times\n",
    "\n",
    "def timer_worst():\n",
    "    times = []\n",
    "    stmt_code = \"[grahamscan(inputSets_worst[n]) for n in range(7)]\"\n",
    "    setup_code = '''\n",
    "from __main__ import grahamscan\n",
    "from __main__ import inputSets_worst\n",
    "    '''\n",
    "    \n",
    "    for n in range(7):\n",
    "        time = timeit.timeit(lambda: grahamscan(inputSets_worst[n]),setup = setup_code, number = 5)\n",
    "        times.append(time/5)\n",
    "    return times"
   ]
  },
  {
   "cell_type": "markdown",
   "metadata": {},
   "source": [
    "## Plot function"
   ]
  },
  {
   "cell_type": "code",
   "execution_count": null,
   "metadata": {},
   "outputs": [],
   "source": [
    "import matplotlib.pyplot as plt\n",
    "\n",
    "def plot(times):\n",
    "    NS = [100,500,1000,5000,10000,15000,20000]\n",
    "    fig = plt.figure()\n",
    "    graph = fig.add_subplot(111)\n",
    "    graph.set(title='analysis graph', ylabel='Time', xlabel='Number of points')\n",
    "    graph.plot(NS,times)\n",
    "    plt.show()"
   ]
  },
  {
   "cell_type": "markdown",
   "metadata": {},
   "source": [
    "## Test code for random case"
   ]
  },
  {
   "cell_type": "code",
   "execution_count": null,
   "metadata": {},
   "outputs": [],
   "source": [
    "#generate random datatSet \n",
    "inputSets_random = [generate_random(NS[n]) for n in range(7)]\n",
    "\n",
    "#plot of the previously computed execution times\n",
    "times = timer_random()\n",
    "plot(times)"
   ]
  },
  {
   "cell_type": "markdown",
   "metadata": {},
   "source": [
    "## Test code for worst case"
   ]
  },
  {
   "cell_type": "code",
   "execution_count": null,
   "metadata": {},
   "outputs": [],
   "source": [
    "#generate worst-case datatSet \n",
    "inputSets_worst = [generate_worst(NS[n]) for n in range(7)]\n",
    "\n",
    "#plot of the previously computed execution times\n",
    "times = timer_worst()\n",
    "plot(times)\n",
    "\n"
   ]
  },
  {
   "cell_type": "markdown",
   "metadata": {},
   "source": [
    "*Optional*: Feel free to use the code below on small datasets (e.g., N = 10) to visually inspect whether the algorithm has been implemented correctly. The fragment below assumes both `inputSet` and `outputSet` to be lists of 2D points, with each point being a list of 2 elements (e.g., `[[x1,y1], [x2,y2], ..., [x_k,y_k]]`)"
   ]
  },
  {
   "cell_type": "code",
   "execution_count": null,
   "metadata": {},
   "outputs": [],
   "source": [
    "import matplotlib.pyplot as plt\n",
    "\n",
    "# inputSet and outputSet should have been defined above. \n",
    "# uncomment the next two lines only if you wish to test the plotting code before coding your algorithm\n",
    "\n",
    "#inputSet = [[1,1], [2,2] , [3, 3], [4,4], [1,4], [3,1], [1, 5], [2, 4], [3, 5]]\n",
    "#outputSet = [[1,1], [3,1] , [4, 4], [3,5], [1,5]]\n",
    "\n",
    "plt.figure()\n",
    "\n",
    "#first do a scatter plot of the inputSet\n",
    "input_xs, input_ys = zip(*inputSet)\n",
    "plt.scatter(input_xs, input_ys)\n",
    "\n",
    "#then do a polygon plot of the computed covex hull\n",
    "outputSet.append(outputSet[0]) #first create a 'closed loop' by adding the first point at the end of the list\n",
    "output_xs, output_ys = zip(*outputSet) \n",
    "plt.plot(output_xs, output_ys) \n",
    "\n",
    "plt.show() "
   ]
  },
  {
   "cell_type": "code",
   "execution_count": null,
   "metadata": {},
   "outputs": [],
   "source": []
  },
  {
   "cell_type": "code",
   "execution_count": null,
   "metadata": {},
   "outputs": [],
   "source": []
  },
  {
   "cell_type": "code",
   "execution_count": null,
   "metadata": {},
   "outputs": [],
   "source": []
  },
  {
   "cell_type": "code",
   "execution_count": null,
   "metadata": {},
   "outputs": [],
   "source": []
  }
 ],
 "metadata": {
  "kernelspec": {
   "display_name": "Python 3",
   "language": "python",
   "name": "python3"
  },
  "language_info": {
   "codemirror_mode": {
    "name": "ipython",
    "version": 3
   },
   "file_extension": ".py",
   "mimetype": "text/x-python",
   "name": "python",
   "nbconvert_exporter": "python",
   "pygments_lexer": "ipython3",
   "version": "3.8.6"
  }
 },
 "nbformat": 4,
 "nbformat_minor": 4
}
